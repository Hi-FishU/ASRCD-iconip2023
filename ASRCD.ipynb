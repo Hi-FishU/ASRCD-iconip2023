{
 "cells": [
  {
   "cell_type": "code",
   "execution_count": 3,
   "id": "2f092149",
   "metadata": {},
   "outputs": [],
   "source": [
    "import pandas as pd\n",
    "with open(r\"data\\assistment2009\\skill_builder_data_corrected.csv\", \"r\", encoding=\"ISO-8859-15\") as f:\n",
    "    data = pd.read_csv(f, low_memory=False)\n",
    "    data.dropna(subset=['skill_id'], inplace=True)\n",
    "\n",
    "skill_id, skills = pd.factorize(data['skill_id'], sort=True)\n",
    "exer_id, exers = pd.factorize(data['problem_id'], sort=True)\n",
    "stu_id, stus = pd.factorize(data['user_id'], sort=True)\n",
    "data['skill_id'] = skill_id\n",
    "data['exer_id'] = exer_id\n",
    "data['stu_id'] = stu_id\n",
    "data_by_skill = data.groupby('exer_id')\n",
    "exer_skill = {}\n",
    "for skill in data_by_skill:\n",
    "    exer_id = skill[1]['exer_id'].iloc[0]\n",
    "    skills = list(set(skill[1][['skill_id']].values.T.tolist()[0]))\n",
    "    exer_skill[exer_id] = skills\n"
   ]
  },
  {
   "cell_type": "code",
   "execution_count": 4,
   "id": "a06ae825",
   "metadata": {},
   "outputs": [
    {
     "name": "stderr",
     "output_type": "stream",
     "text": [
      "usage: ipykernel_launcher.py [-h] [--student_min_log STUDENT_MIN_LOG]\n",
      "                             [--dataset_json_filename DATASET_JSON_FILENAME]\n",
      "ipykernel_launcher.py: error: unrecognized arguments: --ip=127.0.0.1 --stdin=9003 --control=9001 --hb=9000 --Session.signature_scheme=\"hmac-sha256\" --Session.key=b\"397cbab3-e90f-4df6-aa2e-3d6755f62ad4\" --shell=9002 --transport=\"tcp\" --iopub=9004 --f=c:\\Users\\FishU\\AppData\\Roaming\\jupyter\\runtime\\kernel-v2-20880c5FMblmsrQJT.json\n"
     ]
    },
    {
     "ename": "SystemExit",
     "evalue": "2",
     "output_type": "error",
     "traceback": [
      "An exception has occurred, use %tb to see the full traceback.\n",
      "\u001b[1;31mSystemExit\u001b[0m\u001b[1;31m:\u001b[0m 2\n"
     ]
    }
   ],
   "source": [
    "import json\n",
    "from test.json_data_load import Student, Record\n",
    "\n",
    "with open(\"./data/assistment2009/ASSISTment09.json\", \"r\") as f:\n",
    "    data = json.load(f)"
   ]
  },
  {
   "cell_type": "code",
   "execution_count": null,
   "id": "253c46d7",
   "metadata": {},
   "outputs": [],
   "source": []
  },
  {
   "cell_type": "code",
   "execution_count": null,
   "id": "e4b131cd",
   "metadata": {},
   "outputs": [],
   "source": []
  }
 ],
 "metadata": {
  "kernelspec": {
   "display_name": "Python 3.8.12 ('torch')",
   "language": "python",
   "name": "python3"
  },
  "language_info": {
   "codemirror_mode": {
    "name": "ipython",
    "version": 3
   },
   "file_extension": ".py",
   "mimetype": "text/x-python",
   "name": "python",
   "nbconvert_exporter": "python",
   "pygments_lexer": "ipython3",
   "version": "3.10.11"
  },
  "vscode": {
   "interpreter": {
    "hash": "37a092b8b09c0a0a4e761f95db8fa519898d09f8c1208c22656c8fce0745528b"
   }
  }
 },
 "nbformat": 4,
 "nbformat_minor": 5
}
